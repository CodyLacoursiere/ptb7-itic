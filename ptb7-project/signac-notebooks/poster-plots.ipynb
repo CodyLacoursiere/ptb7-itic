{
 "cells": [
  {
   "cell_type": "code",
   "execution_count": 1,
   "metadata": {},
   "outputs": [],
   "source": [
    "import signac\n",
    "import os\n",
    "import numpy as np\n",
    "import matplotlib.pyplot as plt"
   ]
  },
  {
   "cell_type": "code",
   "execution_count": 2,
   "metadata": {},
   "outputs": [],
   "source": [
    "def get_rdf_data(file, rdf_type):\n",
    "    data = np.genfromtxt(file, names=True, delimiter=\",\")\n",
    "    x = data['{}_x'.format(rdf_type)]\n",
    "    y = data['{}_y'.format(rdf_type)]\n",
    "    return x, y"
   ]
  },
  {
   "cell_type": "code",
   "execution_count": 3,
   "metadata": {},
   "outputs": [],
   "source": [
    "ptb7_project = signac.get_project()\n",
    "itic_project = signac.get_project(root='/home/chris/cme/projects/itic-project/small-system-sweep')"
   ]
  },
  {
   "cell_type": "code",
   "execution_count": 58,
   "metadata": {},
   "outputs": [
    {
     "name": "stdout",
     "output_type": "stream",
     "text": [
      "[1.8, 1.7, 2.3, 1.5, 1.4, 2.0, 2.2, 1.9, 2.4, 1.6, 2.1]\n",
      "[1.4, 1.5, 1.6, 1.7, 1.8, 1.9, 2.0, 2.1, 2.2, 2.3, 2.4]\n"
     ]
    },
    {
     "data": {
      "text/plain": [
       "Text(0, 0.5, 'G(r)')"
      ]
     },
     "execution_count": 58,
     "metadata": {},
     "output_type": "execute_result"
    }
   ],
   "source": [
    "# PLOTS PTB7 AT A SINGLE DENSITY --> RDF AS A FUNCTION OF TEMP\n",
    "%matplotlib qt\n",
    "plt.rcParams['axes.linewidth'] = 1.6 #set the value globally\n",
    "plt.rcParams['xtick.major.width'] = 1.6\n",
    "plt.rcParams['ytick.major.width'] = 1.6\n",
    "plt.rc('axes', labelsize=22)\n",
    "plt.rc('legend', title_fontsize=18)\n",
    "polymer_length = 5\n",
    "state_dict = {\"size\": \"small\", \"process\": \"quench\", \"density\":0.8, \"molecule\":\"PTB7_{}mer_smiles\".format(polymer_length)}\n",
    "low_density_jobs = ptb7_project.find_jobs(filter=state_dict)\n",
    "job_temps = [job.sp['kT_reduced'] for job in low_density_jobs]\n",
    "print(job_temps)\n",
    "job_temps.sort()\n",
    "print(job_temps)\n",
    "\n",
    "colors = plt.cm.coolwarm(np.linspace(0, 1, len(job_temps)))\n",
    "fig = plt.figure()\n",
    "ax = plt.subplot(111)\n",
    "for idx, T in enumerate(job_temps):\n",
    "    for job in low_density_jobs:\n",
    "        if job.sp['kT_reduced'] == T:\n",
    "            file_path = os.path.join(job.workspace(), 'rdf-data.txt')\n",
    "            x, y = get_rdf_data(file_path, rdf_type='sulfur')\n",
    "            ax.plot(x, y, label=job.sp['kT_reduced'], color=colors[idx], linewidth=5)\n",
    "    \n",
    "box = ax.get_position()\n",
    "ax.set_position([box.x0, box.y0, box.width*0.90, box.height*0.90])\n",
    "#ax.legend(loc='center left', bbox_to_anchor=(1, 0.5), title='kT', fontsize='x-large')\n",
    "plt.xlim(0, 4.5)\n",
    "plt.xlabel('distance r (A.U.)')\n",
    "plt.ylabel('G(r)')"
   ]
  },
  {
   "cell_type": "code",
   "execution_count": 34,
   "metadata": {},
   "outputs": [
    {
     "name": "stderr",
     "output_type": "stream",
     "text": [
      "/home/chris/miniconda3/envs/opv/lib/python3.7/site-packages/signac/contrib/project.py:1912: UserWarning: Install pandas for a pretty representation of jobs.\n",
      "  warnings.warn('Install pandas for a pretty representation of jobs.')\n"
     ]
    },
    {
     "data": {
      "text/html": [
       "JobsCursor(project=Project.get_project('/home/chris/cme/projects/ptb7-project'), filter={'size': 'small', 'process': 'quench', 'density': 0.8, 'kT_reduced': 1.4}, doc_filter=None)<br/><strong>3</strong> job(s) found"
      ],
      "text/plain": [
       "JobsCursor(project=Project.get_project('/home/chris/cme/projects/ptb7-project'), filter={'size': 'small', 'process': 'quench', 'density': 0.8, 'kT_reduced': 1.4}, doc_filter=None)"
      ]
     },
     "execution_count": 34,
     "metadata": {},
     "output_type": "execute_result"
    }
   ],
   "source": [
    "state_dict = {\"size\": \"small\", \"process\": \"quench\", \"density\":0.8, \"kT_reduced\":1.4}\n",
    "length_jobs = ptb7_project.find_jobs(filter=state_dict)\n",
    "length_jobs"
   ]
  },
  {
   "cell_type": "code",
   "execution_count": 57,
   "metadata": {},
   "outputs": [
    {
     "data": {
      "text/plain": [
       "Text(0, 0.5, 'G(r)')"
      ]
     },
     "execution_count": 57,
     "metadata": {},
     "output_type": "execute_result"
    }
   ],
   "source": [
    "state_dict = {\"size\": \"small\", \"process\": \"quench\", \"density\":0.8, \"kT_reduced\":1.4}\n",
    "length_jobs = ptb7_project.find_jobs(filter=state_dict)\n",
    "\n",
    "colors = plt.cm.coolwarm(np.linspace(0, 1, len(job_temps)))\n",
    "fig = plt.figure()\n",
    "#ax = plt.subplot(111)\n",
    "molecules = ['PTB7_5mer_smiles', 'PTB7_10mer_smiles','PTB7_15mer_smiles']\n",
    "marker_styles = ['s', 'o', 't']\n",
    "line_styles = ['-', '--', ':']\n",
    "job_lengths = ['5', '10', '15']\n",
    "for i, L in enumerate(job_lengths):\n",
    "    for job in length_jobs:\n",
    "        if job.sp['molecule'] == molecules[i]:\n",
    "            file_path = os.path.join(job.workspace(), 'rdf-data.txt')\n",
    "            x, y = get_rdf_data(file_path, rdf_type='sulfur')\n",
    "            plt.plot(x, y,\n",
    "                    label=job_lengths[i],\n",
    "                    linestyle=line_styles[i],\n",
    "                    linewidth=6\n",
    "                   )\n",
    "    \n",
    "#box = ax.get_position()\n",
    "#ax.set_position([box.x0, box.y0, box.width*0.90, box.height*0.90])\n",
    "plt.legend(title='Polymer Length')\n",
    "plt.xlim(0, 4.5)\n",
    "plt.xlabel('distance r (A.U.)')\n",
    "plt.ylabel('G(r)')"
   ]
  },
  {
   "cell_type": "markdown",
   "metadata": {},
   "source": [
    "## PTB7 VS ITIC CENTERS PLOT:\n",
    "\n",
    "The code below here is creating a single plot comparing PTB7 vs ITIC (centers) at a single statepoint"
   ]
  },
  {
   "cell_type": "code",
   "execution_count": 59,
   "metadata": {
    "scrolled": true
   },
   "outputs": [],
   "source": [
    "ptb7_dict = {\"size\": \"small\",\n",
    "             \"process\": \"quench\",\n",
    "             \"density\":0.8,\n",
    "             \"molecule\":\"PTB7_5mer_smiles\",\n",
    "            \"kT_reduced\":1.4}\n",
    "\n",
    "itic_dict = {\"density\": 0.8, \"kT_reduced\":1.4}"
   ]
  },
  {
   "cell_type": "code",
   "execution_count": 66,
   "metadata": {},
   "outputs": [
    {
     "data": {
      "text/plain": [
       "<matplotlib.legend.Legend at 0x7fe88c84b950>"
      ]
     },
     "execution_count": 66,
     "metadata": {},
     "output_type": "execute_result"
    }
   ],
   "source": [
    "ptb7_job = ptb7_project.find_jobs(ptb7_dict)\n",
    "ptb7_path = [job.workspace() for job in ptb7_job]\n",
    "ptb7_rdf = os.path.join(ptb7_path[0], 'rdf-data.txt')\n",
    "ptb7_x, ptb7_y = get_rdf_data(ptb7_rdf, 'centers')\n",
    "\n",
    "itic_job = itic_project.find_jobs(itic_dict)\n",
    "itic_path = [job.workspace() for job in itic_job]\n",
    "itic_rdf = os.path.join(itic_path[0], 'rdf-data.txt')\n",
    "itic_x, itic_y = get_rdf_data(itic_rdf, 'centers')\n",
    "\n",
    "fig = plt.figure()\n",
    "plt.plot(ptb7_x, ptb7_y, label=\"PTB7\", linewidth=5)\n",
    "plt.plot(itic_x, itic_y, label=\"ITIC\", linewidth=5)\n",
    "plt.xlabel('distance r (A.U.)')\n",
    "plt.ylabel('G(r)')\n",
    "plt.legend()"
   ]
  },
  {
   "cell_type": "code",
   "execution_count": null,
   "metadata": {},
   "outputs": [],
   "source": []
  },
  {
   "cell_type": "code",
   "execution_count": null,
   "metadata": {},
   "outputs": [],
   "source": []
  },
  {
   "cell_type": "code",
   "execution_count": 48,
   "metadata": {
    "scrolled": true
   },
   "outputs": [
    {
     "data": {
      "text/plain": [
       "<matplotlib.legend.Legend at 0x7fe1336c7f10>"
      ]
     },
     "execution_count": 48,
     "metadata": {},
     "output_type": "execute_result"
    },
    {
     "data": {
      "image/png": "[encoded data removed]",
      "text/plain": [
       "<Figure size 432x288 with 1 Axes>"
      ]
     },
     "metadata": {
      "needs_background": "light"
     },
     "output_type": "display_data"
    }
   ],
   "source": [
    "polymer_length = 5\n",
    "fig = plt.figure()\n",
    "\n",
    "job_list = []\n",
    "\n",
    "for job in low_density_jobs:\n",
    "    if job.sp['molecule'] == \"PTB7_{}mer_smiles\".format(polymer_length):\n",
    "        file_path = \"{}/rdf-data.txt\".format(job.workspace())\n",
    "        file_path = os.path.join(job.workspace(), 'rdf-data.txt')\n",
    "        x, y = get_rdf_data(file_path, rdf_type='sulfur')\n",
    "        plt.plot(x, y, label=job.sp['molecule'])\n",
    "\n",
    "plt.legend()"
   ]
  },
  {
   "cell_type": "code",
   "execution_count": 40,
   "metadata": {},
   "outputs": [],
   "source": []
  },
  {
   "cell_type": "code",
   "execution_count": null,
   "metadata": {},
   "outputs": [],
   "source": []
  }
 ],
 "metadata": {
  "kernelspec": {
   "display_name": "Python 3",
   "language": "python",
   "name": "python3"
  },
  "language_info": {
   "codemirror_mode": {
    "name": "ipython",
    "version": 3
   },
   "file_extension": ".py",
   "mimetype": "text/x-python",
   "name": "python",
   "nbconvert_exporter": "python",
   "pygments_lexer": "ipython3",
   "version": "3.7.7"
  }
 },
 "nbformat": 4,
 "nbformat_minor": 4
}
