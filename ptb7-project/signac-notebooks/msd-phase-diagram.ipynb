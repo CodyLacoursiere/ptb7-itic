{
 "cells": [
  {
   "cell_type": "code",
   "execution_count": 12,
   "metadata": {},
   "outputs": [],
   "source": [
    "import signac\n",
    "import numpy as np\n",
    "import matplotlib.pyplot as plt\n",
    "import os"
   ]
  },
  {
   "cell_type": "markdown",
   "metadata": {},
   "source": [
    "## STEP 1: Use signac to search and narrow down our workspace.  \n",
    "\n",
    "### GOAL: Use signac to narrow down the jobs we want to work with right now.  \n",
    "\n",
    "- Jobs is a signac term, and in our case 1 job = 1 statepoint = 1 simulation.    \n",
    "- Each job has its own directory inside of the workspace directory, and the name of the directory is the job ID.  \n",
    "- We narrow down the jobs we want by choosing which set of parameters (statepoints) we want to work with.\n",
    "\n",
    "\n",
    "Right now, the PTB7 workspace directory has 441 different folders (jobs/simulations/statepoints) with more coming.  \n",
    "\n",
    "There are small systems, medium systems, large systems, 5mers, 10mers, 15mers, tons of different densities and temperatures, quenched simulations (basically meaning we start the sim at the goal temperature) and annealed simulations (run lots of simulations while slowly lowering the temperature).  These are the parameters we can choose from when telling signac to search the workspace and only find the jobs we want.\n",
    "\n",
    "Right now, we are working with quenched simulations of small systems, so these two parameters will be sort of \"hard-coded\" into our signac process for now.  The varialbe parameters we will change are going to be the polymer length (5mer, 10mer, 15mer).  For example, we want to tell signac to return only small, quenched 5mer systems, and run those jobs through whatever process (finding slops of MSDs), then we'll change 5mer to 10mer and run the same process (and again with 15mer).\n",
    "\n",
    "The other parameters (temperature and density in this case) are not given any constraints, so signac will return simulations at for every combination of temperature and density.  \n"
   ]
  },
  {
   "cell_type": "markdown",
   "metadata": {},
   "source": [
    "\n",
    "\n",
    "The first thing we need to do is provide some method of a \"filter\" to signac\n",
    "so that it knows how to narrow down the workspace.    \n",
    "\n",
    "I typically use something called a dictionary which are a certain data type available in python (kind of like how lists and arrays are specific data types)  \n",
    "\n",
    "A dictionary consists of key:value pairs, just how actual dictionaries consist\n",
    "of word:definition pairs.\n",
    "\n",
    "Here is an intuitive example, if I were to create a python dictionary that held information\n",
    "about me.\n",
    "\n",
    "`chris_dict = {\"Name\": \"Chris\", \"School\": \"BSU\", \"Major\": \"MSE\", \"Status\": \"Graduate Student\"}`\n",
    "\n",
    "We can see the `\"key\": \"value\"` pairs. Also, dictionaries have {} type of brackets\n",
    "\n",
    "So, lets make a dictionary for signac.  In this case the keys will be the parameters, and the \n",
    "values will be the specific value of the parameter we want to filter by.  For example:\n",
    "\n",
    "`statepoint_dict = {\"size\": \"small\", \"process\": \"quench\", \"molecule\": \"PTB7_15mer_smiles\"}`\n",
    "\n",
    "This tells signac I only want jobs whose size parameter = small, process parameter = quench\n",
    "and molecule parameter = 15mers.\n",
    "\n",
    "Now we have to pass this dictionary to signac.  This is where you need some familiarity with \n",
    "signac's API (functionality accessible with its python package)\n",
    "\n",
    "    Look here: https://docs.signac.io/projects/core/en/latest/\n",
    "    \n",
    "Signac has project level functionality and job level functionality.  PTB7 is one project with 441 jobs.  Sorting through all of the jobs the live within a single project and retruning only certain jobs is a feature at the project level\n",
    "\n",
    "    Project https://docs.signac.io/projects/core/en/latest/api.html#the-project\n",
    "    Job https://docs.signac.io/projects/core/en/latest/api.html#the-job-class\n",
    "\n",
    "Looking through signac's Project API, there is one called `project.find_jobs` which\n",
    "we can use to narrow down which jobs we are working with.\n"
   ]
  },
  {
   "cell_type": "code",
   "execution_count": 16,
   "metadata": {},
   "outputs": [],
   "source": [
    "# Initialize the project\n",
    "project = signac.get_project()\n",
    "\n",
    "# Define your \"filter\"\n",
    "statepoint_dict = {\"size\": \"small\", \"process\": \"quench\", \"molecule\": \"PTB7_15mer_smiles\"}\n",
    "\n",
    "# Tell signac to create a list of jobs that are narrowed down via the filter we give it\n",
    "\n",
    "# Here, we are passing the dictionary above into project.find_jobs()\n",
    "job_list = project.find_jobs(statepoint_dict)\n",
    "# job_list is now all of (and only) the jobs that meet the requirements given in statepoint_dict\n"
   ]
  },
  {
   "cell_type": "code",
   "execution_count": null,
   "metadata": {},
   "outputs": [],
   "source": []
  },
  {
   "cell_type": "code",
   "execution_count": null,
   "metadata": {},
   "outputs": [],
   "source": []
  }
 ],
 "metadata": {
  "kernelspec": {
   "display_name": "Python 3",
   "language": "python",
   "name": "python3"
  },
  "language_info": {
   "codemirror_mode": {
    "name": "ipython",
    "version": 3
   },
   "file_extension": ".py",
   "mimetype": "text/x-python",
   "name": "python",
   "nbconvert_exporter": "python",
   "pygments_lexer": "ipython3",
   "version": "3.7.7"
  }
 },
 "nbformat": 4,
 "nbformat_minor": 4
}
